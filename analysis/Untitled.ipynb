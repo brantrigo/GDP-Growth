{
 "cells": [
  {
   "cell_type": "code",
   "execution_count": 1,
   "metadata": {
    "collapsed": true
   },
   "outputs": [
    {
     "ename": "ModuleNotFoundError",
     "evalue": "No module named 'utils'",
     "output_type": "error",
     "traceback": [
      "\u001b[0;31m---------------------------------------------------------------------------\u001b[0m",
      "\u001b[0;31mModuleNotFoundError\u001b[0m                       Traceback (most recent call last)",
      "\u001b[0;32m<ipython-input-1-af6fba890d9c>\u001b[0m in \u001b[0;36m<module>\u001b[0;34m\u001b[0m\n\u001b[1;32m      5\u001b[0m \u001b[0;32mfrom\u001b[0m \u001b[0msklearn\u001b[0m\u001b[0;34m.\u001b[0m\u001b[0mfeature_selection\u001b[0m \u001b[0;32mimport\u001b[0m \u001b[0mf_regression\u001b[0m\u001b[0;34m,\u001b[0m \u001b[0mmutual_info_regression\u001b[0m\u001b[0;34m\u001b[0m\u001b[0;34m\u001b[0m\u001b[0m\n\u001b[1;32m      6\u001b[0m \u001b[0;32mimport\u001b[0m \u001b[0mos\u001b[0m\u001b[0;34m.\u001b[0m\u001b[0mpath\u001b[0m\u001b[0;34m\u001b[0m\u001b[0;34m\u001b[0m\u001b[0m\n\u001b[0;32m----> 7\u001b[0;31m \u001b[0;32mfrom\u001b[0m \u001b[0mutils\u001b[0m \u001b[0;32mimport\u001b[0m \u001b[0mconfig\u001b[0m\u001b[0;34m\u001b[0m\u001b[0;34m\u001b[0m\u001b[0m\n\u001b[0m\u001b[1;32m      8\u001b[0m \u001b[0;34m\u001b[0m\u001b[0m\n",
      "\u001b[0;31mModuleNotFoundError\u001b[0m: No module named 'utils'"
     ]
    }
   ],
   "source": [
    "import pandas as pd\n",
    "import numpy as np\n",
    "import sqlite3\n",
    "import statsmodels.formula.api as smf\n",
    "from sklearn.feature_selection import f_regression, mutual_info_regression\n",
    "import os.path   \n",
    "from utils import config\n",
    "\n"
   ]
  },
  {
   "cell_type": "code",
   "execution_count": null,
   "metadata": {},
   "outputs": [],
   "source": [
    "\n",
    "def get_data(database_path, exclude_list = None):\n",
    "    \"\"\"Retrieve data from the database, excluding names in exclude_list\"\"\"\n",
    "    conn = sqlite3.connect(database_path)\n",
    "    country_names = pd.read_sql(\"\"\"SELECT * FROM Countries;\"\"\", conn)\n",
    "    not_country = country_names.loc[country_names[\"LongName\"].isin(exclude_list)][\"CountryCode\"]\n",
    "    long = pd.read_sql(\"\"\"SELECT * FROM CountryIndicators;\"\"\", conn)\n",
    "    long = long.loc[~long[\"CountryCode\"].isin(not_country)]\n",
    "    return long\n",
    "\n",
    "def prepare_data(long, PREDICTED_INDICATOR):\n",
    "    \"\"\"Create a Multi-index Dataframe and prepare data for linear model\"\"\"\n",
    "    df = long.pivot_table(index=['CountryCode','Year'], columns='IndicatorCode',values='Value',aggfunc=np.sum)\n",
    "    # Create 3 more columns with Countries, Objective Indicator lag and year\n",
    "    df['Country'] = df.index.get_level_values(0)\n",
    "    df['lag1'] = df[PREDICTED_INDICATOR].shift(1)\n",
    "    df['Time'] = df.index.get_level_values(1)\n",
    "    # Extract Rows where Predicted Indicator and its lag do not have values\n",
    "    df = df.dropna(subset=[PREDICTED_INDICATOR,\"lag1\"])\n",
    "    # Countries strings to numeric values\n",
    "    groups = df[[\"Country\"]].replace(pd.unique(df.Country), \n",
    "            list(range(0,len(pd.unique(df.Country)))))\n",
    "    groups = pd.to_numeric(groups.Country)\n",
    "    return df, groups\n",
    "\n",
    "def linear_model(df1, PREDICTED_INDICATOR, groups):\n",
    "    # Replace . by _ for linear model\n",
    "    df1.columns = df1.columns.str.replace(\".\", \"_\")\n",
    "    predicted_indicator = PREDICTED_INDICATOR.replace(\".\", \"_\")\n",
    "    # Mixed linear model with group as random effect.\n",
    "    df1_sub = df1[[predicted_indicator,\"Country\",\"lag1\"]]\n",
    "    string = f\"{predicted_indicator} ~ lag1\"\n",
    "    md = smf.mixedlm(string, df1_sub, groups=groups)\n",
    "    mod = md.fit()\n",
    "    print(mod.summary())\n",
    "    df1['residuals'] = mod.resid\n",
    "    df1['Country'] = groups\n",
    "    mod.summary()\n",
    "    return df1\n",
    "\n",
    "def clean_data(df, threshold = 0.3):\n",
    "    \"\"\"Reject Indicators whose NaN values exceed threshold \"\"\"\n",
    "    # Filter/impute vars with NA\n",
    "    df_fewNA = df[df.columns[(df.isnull().sum(axis=0)/df.shape[0]<=threshold)]]\n",
    "    country2 = df_fewNA['Country']\n",
    "    df_fewNA = df_fewNA.groupby(country2).transform(lambda x: x.fillna(x.ffill().bfill()))\n",
    "    df_fewNA = df_fewNA.fillna(df.mean())\n",
    "    df_fewNA[\"Country\"] = country2\n",
    "    return df_fewNA\n",
    "\n",
    "def select_data(df_fewNA, num_features = 50):\n",
    "    # Feature selection\n",
    "    covs = df_fewNA.drop([\"NY_GDP_MKTP_KD_ZG\",\"residuals\"], 1)\n",
    "    Y = df_fewNA[['residuals']]\n",
    "    info = mutual_info_regression(covs, np.ravel(Y))\n",
    "    df_varimp =pd.DataFrame(data={'name': covs.columns, 'varimp': info})\n",
    "    # Keep top50\n",
    "    selected_variables = df_varimp.sort_values(by=\"varimp\",ascending=False)[0:49]\n",
    "    selected_variables['name'] = selected_variables['name'].str.replace('_','.')\n",
    "    selected_variables['name'].to_csv(path_or_buf='./utils/selected_variables.txt',header=True, \n",
    "                                          index=None, sep='\\t', mode='a')\n",
    "    return selected_variables\n",
    "\n",
    "\n",
    "def get_select_data(database_path,exclude_list, PREDICTED_INDICATOR, file='./utils/selected_variables.txt'):\n",
    "    if os.path.isfile(file):\n",
    "        selected_variables= pd.read_csv(file)   \n",
    "        conn = sqlite3.connect(database_path)\n",
    "        selected_variables = selected_variables['name'].append(pd.Series(\"NY.GDP.MKTP.KD.ZG\"),ignore_index=True).tolist()\n",
    "        queryString = 'SELECT * FROM CountryIndicators WHERE IndicatorCode IN (\\'{}\\');'.format('\\',\\''.join([_ for _ in selected_variables]))\n",
    "        vars1 = pd.read_sql(queryString, con=conn)\n",
    "        # LongName to CountryName\n",
    "        country_names = pd.read_sql(\"\"\"SELECT LongName,CountryCode FROM Countries;\"\"\", conn)\n",
    "        not_country = country_names.loc[country_names[\"LongName\"].isin(exclude_list)][\"CountryCode\"]\n",
    "        vars1= vars1.loc[~vars1[\"CountryCode\"].isin(not_country)]\n",
    "        vars2 = vars1.pivot_table(index=['CountryCode','Year'], columns='IndicatorCode',values='Value',aggfunc=np.sum)\n",
    "        vars2['Country'] = vars2.index.get_level_values(0)\n",
    "        vars2['Time'] = vars2.index.get_level_values(1)\n",
    "        vars2['lag1'] = vars2[PREDICTED_INDICATOR].shift(1)\n",
    "        return vars2"
   ]
  },
  {
   "cell_type": "code",
   "execution_count": null,
   "metadata": {},
   "outputs": [],
   "source": []
  }
 ],
 "metadata": {
  "kernelspec": {
   "display_name": "Python 3",
   "language": "python",
   "name": "python3"
  },
  "language_info": {
   "codemirror_mode": {
    "name": "ipython",
    "version": 3
   },
   "file_extension": ".py",
   "mimetype": "text/x-python",
   "name": "python",
   "nbconvert_exporter": "python",
   "pygments_lexer": "ipython3",
   "version": "3.8.5"
  }
 },
 "nbformat": 4,
 "nbformat_minor": 4
}
