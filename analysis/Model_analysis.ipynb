{
 "cells": [
  {
   "cell_type": "markdown",
   "metadata": {},
   "source": [
    "In order to execute this file, one has to place it in the same directory as cli.py."
   ]
  },
  {
   "cell_type": "code",
   "execution_count": 1,
   "metadata": {
    "scrolled": true
   },
   "outputs": [],
   "source": [
    "import gpboost as gpb\n",
    "import numpy as np\n",
    "import time\n",
    "import pandas as pd\n",
    "import sqlite3\n",
    "import shap\n",
    "from sklearn.metrics import mean_squared_error\n",
    "import matplotlib.pyplot as plt\n",
    "import logging\n",
    "import os\n",
    "# Own modules\n",
    "from utils import config, io, models\n",
    "from utils import io_aux_train as training\n",
    "from utils import io_aux_test as testing"
   ]
  },
  {
   "cell_type": "code",
   "execution_count": 2,
   "metadata": {},
   "outputs": [],
   "source": [
    "X = io.retrieve_clean_dataset(database_path=config.DATABASE_PATH, \n",
    "                              exclude_list=config.exclude_list, \n",
    "                              PREDICTED_INDICATOR=config.PREDICTED_INDICATOR)"
   ]
  },
  {
   "cell_type": "code",
   "execution_count": 3,
   "metadata": {},
   "outputs": [],
   "source": [
    "def score_prediction(bst, X_train, y_train, groups_train,\n",
    "                     random_effects=True):\n",
    "    \"\"\"\n",
    "    Scores the predictions of a trained Booster model.\n",
    "    As metrics, rms and r^2 value are used\n",
    "    Parameters\n",
    "    ----------\n",
    "\n",
    "    Returns\n",
    "    -------\"\"\"\n",
    "    logging.info('Evaluating metrics of predictions of the model')\n",
    "    y = np.concatenate(y_train.to_numpy(), axis=0)\n",
    "    non_nan_indices = np.where(np.logical_not(np.isnan(y)))\n",
    "    y = y[non_nan_indices]\n",
    "    \n",
    "    pred = bst.predict(data=X_train, group_data_pred=groups_train)\n",
    "    if random_effects == True:\n",
    "        y_pred = pred['fixed_effect'] + pred['random_effect_mean'] \n",
    "    else:\n",
    "        y_pred = pred\n",
    "    y_pred = y_pred[non_nan_indices]\n",
    "    rms = mean_squared_error(y, y_pred, squared=False) \n",
    "    #rsquared\n",
    "    y_mean = y.mean()\n",
    "    SS_tot = np.sum((y - y_mean)**2)\n",
    "    SS_res = np.sum((y-y_pred)**2)\n",
    "    rsquared = 1 - SS_res/SS_tot\n",
    "    return rms, rsquared\n",
    "    "
   ]
  },
  {
   "cell_type": "code",
   "execution_count": 4,
   "metadata": {},
   "outputs": [],
   "source": [
    "X = io.retrieve_clean_dataset(database_path=config.DATABASE_PATH,\n",
    "                              exclude_list=config.exclude_list,\n",
    "                              PREDICTED_INDICATOR=config.PREDICTED_INDICATOR)\n",
    "X.columns = X.columns.str.replace(\".\", \"_\")\n",
    "X = X.reset_index(drop=True)\n",
    "pred_ind = config.PREDICTED_INDICATOR.replace(\".\", \"_\")\n",
    "(X_train, y_train,\n",
    " data_train,\n",
    " groups_train) = training.retrieve_training_dataset(X,\n",
    "                                                    predicted_indicator=pred_ind)\n",
    "(gp_model,\n",
    " params,\n",
    " opt_num_boost_rounds) = training.get_booster_model(data_train,\n",
    "                                                    groups_train)\n",
    "bst = gpb.train(params=params,\n",
    "                train_set=data_train,\n",
    "                gp_model=gp_model,\n",
    "                num_boost_round=opt_num_boost_rounds)"
   ]
  },
  {
   "cell_type": "code",
   "execution_count": 5,
   "metadata": {},
   "outputs": [],
   "source": [
    "last_indices = [np.argwhere(groups_train == i).max()\n",
    "                for i in range(len(np.unique(groups_train)))]  # 2011 indices\n",
    "pred_random_effects = bst.predict(data=X_train, group_data_pred=groups_train)\n",
    "y_pred_random_effects = pred_random_effects['fixed_effect'] + \\\n",
    "                        pred_random_effects['random_effect_mean']\n",
    "bst.save_model(\"classic_GBM_model\", num_iteration=opt_num_boost_rounds)\n",
    "bst_classic_GBM = gpb.Booster(model_file='classic_GBM_model')\n",
    "y_pred_classic_gbm = bst_classic_GBM.predict(data=X_train,\n",
    "                                             group_data_pred=groups_train)"
   ]
  },
  {
   "cell_type": "markdown",
   "metadata": {},
   "source": [
    "For panel data, the form of data that we have in our database, typically data scientists apply Gradient Tree Boosting models. In the following, we will compare the prediction of our model with of a Gradient Tree Boosting, combined with random effects and the prediction of a classic Gradient Tree Boosting method with the real GPD growth data of 2010. "
   ]
  },
  {
   "cell_type": "code",
   "execution_count": 6,
   "metadata": {},
   "outputs": [
    {
     "data": {
      "text/plain": [
       "array([3.91430927, 1.86278729, 2.55782844, 4.67902558, 2.45651987,\n",
       "       0.30747763, 0.32745849, 2.35970018, 1.39343873, 3.18722965])"
      ]
     },
     "execution_count": 6,
     "metadata": {},
     "output_type": "execute_result"
    }
   ],
   "source": [
    "y_pred_random_effects[last_indices[40:50]]  # sample of our prediction for 2011"
   ]
  },
  {
   "cell_type": "code",
   "execution_count": 7,
   "metadata": {},
   "outputs": [
    {
     "data": {
      "text/plain": [
       "array([3.25315779, 2.36519262, 1.88767941, 3.77132236, 2.55381224,\n",
       "       1.95404997, 1.95404997, 1.92958383, 2.54817339, 3.71255397])"
      ]
     },
     "execution_count": 7,
     "metadata": {},
     "output_type": "execute_result"
    }
   ],
   "source": [
    "y_pred_classic_gbm[last_indices[40:50]]  # classic gbm prediction"
   ]
  },
  {
   "cell_type": "code",
   "execution_count": 8,
   "metadata": {},
   "outputs": [
    {
     "data": {
      "text/plain": [
       "array([0.40026686, 6.65052052, 2.73162042, 4.11682806,        nan,\n",
       "              nan, 3.62071524, 2.71095557, 1.0823154 , 5.79996262])"
      ]
     },
     "execution_count": 8,
     "metadata": {},
     "output_type": "execute_result"
    }
   ],
   "source": [
    "X_test, group_test = testing.retrieve_test_data(X, bst, 2011)\n",
    "pd_gdp_growth_2010 = X_test[\"NY_GDP_MKTP_KD_ZG\"]\n",
    "gdp_growth_2010 = pd_gdp_growth_2010.to_numpy()\n",
    "gdp_growth_2010[last_indices[40:50]]  # real data"
   ]
  },
  {
   "cell_type": "code",
   "execution_count": 9,
   "metadata": {},
   "outputs": [],
   "source": [
    "non_nan_indices = np.where(np.logical_not(np.isnan(gdp_growth_2010)))"
   ]
  },
  {
   "cell_type": "markdown",
   "metadata": {},
   "source": [
    "From a sample of the data compared to the predictions we cannot really appreciate the difference. To quantify the quality of both models we can calculate the mean squared error (mse) and the $r^2$ value of the predictions. The mse measures the error of the model in comparison to the real values. Thus, the higher, the less accurate is the model. The $r^2$ value gives the proportion of the variance (the deviation) of the response variable (GPD growth) that is predictable from all the other variables used by the model. So that a high value represents a good prediction. "
   ]
  },
  {
   "cell_type": "code",
   "execution_count": 10,
   "metadata": {},
   "outputs": [],
   "source": [
    "rms, rsquared = score_prediction(bst, X_train, y_train, groups_train)"
   ]
  },
  {
   "cell_type": "code",
   "execution_count": 11,
   "metadata": {},
   "outputs": [],
   "source": [
    "bst.save_model(\"classic_GBM_model\", num_iteration=opt_num_boost_rounds)\n",
    "bst_classic_GBM = gpb.Booster(model_file='classic_GBM_model')\n",
    "(rms_classic_GBM,\n",
    " rsquared_classic_GBM) = (score_prediction(bst_classic_GBM,\n",
    "                                           X_train,\n",
    "                                           y_train,\n",
    "                                           groups_train,\n",
    "                                           random_effects=False))"
   ]
  },
  {
   "cell_type": "code",
   "execution_count": 12,
   "metadata": {
    "scrolled": false
   },
   "outputs": [
    {
     "data": {
      "image/png": "[encoded data removed]",
      "text/plain": [
       "<Figure size 576x432 with 1 Axes>"
      ]
     },
     "metadata": {},
     "output_type": "display_data"
    }
   ],
   "source": [
    "value_df = pd.DataFrame([[rms, rms_classic_GBM, 'rms']],\n",
    "                        columns=[\"Our model\", \"Classic GBM\", \"rms score\"])\n",
    "\n",
    "plt.style.use('ggplot')\n",
    "\n",
    "f, ax = plt.subplots(figsize=(8, 6))\n",
    "\n",
    "value_df.plot(kind='bar', x=\"rms score\",\n",
    "              sharex=True, ax=ax, rot=0, color=['b', 'r'])\n",
    "ax.set_xlabel(\"rms score\")\n",
    "ax.spines[\"bottom\"].set_visible(True)\n",
    "plt.legend()\n",
    "plt.show()"
   ]
  },
  {
   "cell_type": "markdown",
   "metadata": {},
   "source": [
    "A \"perfect\" model would have a rms score of 0."
   ]
  },
  {
   "cell_type": "code",
   "execution_count": 13,
   "metadata": {
    "scrolled": true
   },
   "outputs": [
    {
     "data": {
      "image/png": "[encoded data removed]",
      "text/plain": [
       "<Figure size 576x576 with 1 Axes>"
      ]
     },
     "metadata": {},
     "output_type": "display_data"
    }
   ],
   "source": [
    "value_df = pd.DataFrame([[rsquared, rsquared_classic_GBM, 'r_squared']],\n",
    "                        columns=[\"Our model\", \"Classic GBM\", \"r_squared\"])\n",
    "\n",
    "plt.style.use('ggplot')\n",
    "\n",
    "f, ax = plt.subplots(figsize=(8, 8))\n",
    "\n",
    "plt.hlines(1, -1, 1, label=\"'perfect' model\")\n",
    "value_df.plot(kind='bar', x=\"r_squared\",\n",
    "              sharex=True, ax=ax, rot=0, color=['b', 'r'])\n",
    "ax.set_xlabel(\"r_squared score\")\n",
    "ax.spines[\"bottom\"].set_visible(True)\n",
    "plt.legend()\n",
    "plt.show()"
   ]
  },
  {
   "cell_type": "markdown",
   "metadata": {},
   "source": [
    "We can see that our models overpass the classic GBM models in quality."
   ]
  },
  {
   "cell_type": "code",
   "execution_count": 14,
   "metadata": {},
   "outputs": [],
   "source": [
    "#Text describing the things below when having final database X\n",
    "#Text saying that shap analysis couldnt be done "
   ]
  },
  {
   "cell_type": "code",
   "execution_count": 15,
   "metadata": {},
   "outputs": [
    {
     "data": {
      "text/plain": [
       "array([-3.54256997, -1.10260361, 13.10671188,  0.63417895,  2.89352359,\n",
       "       -1.52580726,  1.35366724, -7.44128867,  0.10570773, -5.56670227])"
      ]
     },
     "execution_count": 15,
     "metadata": {},
     "output_type": "execute_result"
    }
   ],
   "source": [
    "X = X.set_index(\"Time\")\n",
    "X[\"Time\"] = X.index.get_level_values(0)\n",
    "X_test, group_test = testing.retrieve_test_data(X, bst, 2010)\n",
    "y_pred = testing.predict(X_test, bst, group_test)\n",
    "y_pred[0:10]  # sample of the first ten countries of our predictions for 2010"
   ]
  },
  {
   "cell_type": "code",
   "execution_count": 16,
   "metadata": {},
   "outputs": [
    {
     "data": {
      "text/plain": [
       "array([ 0.36846558, -2.06556734,  4.94130797,  0.63417895,  3.04989297,\n",
       "        2.26220764,  6.20910917,  1.45367944,  0.10343272, -2.65993188])"
      ]
     },
     "execution_count": 16,
     "metadata": {},
     "output_type": "execute_result"
    }
   ],
   "source": [
    "X = X.set_index(\"Time\")\n",
    "X[\"Time\"] = X.index.get_level_values(0)\n",
    "X_test, group_test = testing.retrieve_test_data(X, bst, 2011)\n",
    "y_pred = testing.predict(X_test, bst, group_test)\n",
    "y_pred[0:10]  # sample of the first ten countries of our predictions for 2011"
   ]
  },
  {
   "cell_type": "code",
   "execution_count": 17,
   "metadata": {},
   "outputs": [
    {
     "data": {
      "text/plain": [
       "array([ 0.36846558, -0.10046106,  3.53476866,  0.63417895,  2.6576077 ,\n",
       "        2.67387632,  4.83172948,  1.02688504, -0.13670609, -0.80311388])"
      ]
     },
     "execution_count": 17,
     "metadata": {},
     "output_type": "execute_result"
    }
   ],
   "source": [
    "X = X.set_index(\"Time\")\n",
    "X[\"Time\"] = X.index.get_level_values(0)\n",
    "X_test, group_test = testing.retrieve_test_data(X, bst, 2012)\n",
    "y_pred = testing.predict(X_test, bst, group_test)\n",
    "y_pred[0:10]"
   ]
  },
  {
   "cell_type": "code",
   "execution_count": 18,
   "metadata": {},
   "outputs": [
    {
     "data": {
      "text/plain": [
       "array([ 0.36846558,  1.07041128,  2.72852927,  0.63417895,  2.31808177,\n",
       "        2.89981347,  4.31993088,  0.56414072, -0.36773676,  0.36361939])"
      ]
     },
     "execution_count": 18,
     "metadata": {},
     "output_type": "execute_result"
    }
   ],
   "source": [
    "X = X.set_index(\"Time\")\n",
    "X[\"Time\"] = X.index.get_level_values(0)\n",
    "X_test, group_test = testing.retrieve_test_data(X, bst, 2013)\n",
    "y_pred = testing.predict(X_test, bst, group_test)\n",
    "y_pred[0:10]"
   ]
  },
  {
   "cell_type": "code",
   "execution_count": 19,
   "metadata": {
    "scrolled": true
   },
   "outputs": [
    {
     "data": {
      "text/plain": [
       "array([ 0.36846558,  1.90789922,  1.81878352,  0.63417895,  2.07111004,\n",
       "        3.15816839,  3.61315522,  0.56414072, -0.48489427,  1.87900326])"
      ]
     },
     "execution_count": 19,
     "metadata": {},
     "output_type": "execute_result"
    }
   ],
   "source": [
    "X = X.set_index(\"Time\")\n",
    "X[\"Time\"] = X.index.get_level_values(0)\n",
    "X_test, group_test = testing.retrieve_test_data(X, bst, 2015)\n",
    "y_pred = testing.predict(X_test, bst, group_test)\n",
    "y_pred[0:10]"
   ]
  },
  {
   "cell_type": "code",
   "execution_count": 20,
   "metadata": {},
   "outputs": [
    {
     "data": {
      "text/plain": [
       "array([ 0.36846558,  2.02077716,  0.80325237,  0.63417895,  2.07111004,\n",
       "        3.33082126,  3.5136915 ,  0.56414072, -0.48489427,  2.39190052])"
      ]
     },
     "execution_count": 20,
     "metadata": {},
     "output_type": "execute_result"
    }
   ],
   "source": [
    "X = X.set_index(\"Time\")\n",
    "X[\"Time\"] = X.index.get_level_values(0)\n",
    "X_test, group_test = testing.retrieve_test_data(X, bst, 2020)\n",
    "y_pred = testing.predict(X_test, bst, group_test)\n",
    "y_pred[0:10]"
   ]
  },
  {
   "cell_type": "markdown",
   "metadata": {},
   "source": [
    "In each block of printed values above we can see the predictions for the 10 first countries in alphabetic order for a concrete year. The values for only 10 countries were printed for the sake of readability.\n",
    "As we can see from the values, the prediction for each year becomes more and more similar to the one of the previous year. Thus, our model is more precise for years that are not too much greater than 2010. But our model can still predict an arbitrary big year."
   ]
  }
 ],
 "metadata": {
  "kernelspec": {
   "display_name": "Python 3",
   "language": "python",
   "name": "python3"
  },
  "language_info": {
   "codemirror_mode": {
    "name": "ipython",
    "version": 3
   },
   "file_extension": ".py",
   "mimetype": "text/x-python",
   "name": "python",
   "nbconvert_exporter": "python",
   "pygments_lexer": "ipython3",
   "version": "3.8.5"
  }
 },
 "nbformat": 4,
 "nbformat_minor": 4
}
